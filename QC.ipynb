{
 "cells": [
  {
   "cell_type": "code",
   "execution_count": null,
   "id": "ca68d665",
   "metadata": {},
   "outputs": [],
   "source": [
    "import pandas as pd\n",
    "import numpy as np\n",
    "import matplotlib.pyplot as plt\n",
    "import seaborn as sns\n",
    "import anndata\n",
    "import scanpy as sc\n",
    "from read_data import *\n",
    "import csv\n",
    "import math"
   ]
  },
  {
   "cell_type": "code",
   "execution_count": null,
   "id": "911007a6",
   "metadata": {},
   "outputs": [],
   "source": [
    "#sample_names = ['76-2b','76-2f','79-1d','79-1e','79-2e','79-2f']\n",
    "sample_name = '79-2f'\n",
    "src = f'/cellranger/{sample_name}' # path to raw cellranger files\n",
    "# organize data into anndata object\n",
    "dat_arr = read_data(src) \n",
    "adata = make_anndata(dat_arr)"
   ]
  },
  {
   "cell_type": "code",
   "execution_count": null,
   "id": "77e1e51d",
   "metadata": {},
   "outputs": [],
   "source": [
    "sc.settings.set_figure_params(dpi=80,dpi_save=600,facecolor='white',format='png')"
   ]
  },
  {
   "cell_type": "code",
   "execution_count": null,
   "id": "1ad2f567",
   "metadata": {},
   "outputs": [],
   "source": [
    "# filter genes ocurring in less than 3 cells\n",
    "min_cells_per_gene = 3\n",
    "sc.pp.filter_genes(adata, min_cells=min_cells_per_gene)"
   ]
  },
  {
   "cell_type": "code",
   "execution_count": null,
   "id": "01eda512",
   "metadata": {},
   "outputs": [],
   "source": [
    "sc.pp.calculate_qc_metrics(adata, percent_top=None, log1p=False, inplace=True)"
   ]
  },
  {
   "cell_type": "code",
   "execution_count": null,
   "id": "e28650ea",
   "metadata": {},
   "outputs": [],
   "source": [
    "adata.obs['log10_n_genes_by_counts'] = np.log10(adata.obs.n_genes_by_counts)\n",
    "adata.obs['log10_total_counts'] = np.log10(adata.obs.total_counts)"
   ]
  },
  {
   "cell_type": "code",
   "execution_count": null,
   "id": "26ff2879",
   "metadata": {},
   "outputs": [],
   "source": [
    "plt.figure(figsize=(5,5))\n",
    "plt.hist(adata.obs[\"log10_n_genes_by_counts\"], bins=50, alpha=0.5,ec='black')\n",
    "plt.axvline(adata.obs[\"log10_n_genes_by_counts\"].median(), color='k', linestyle='dashed', linewidth=1)\n",
    "plt.ylabel('Frequency')\n",
    "plt.xlabel(\"log10_n_genes_by_counts\")\n",
    "ax = plt.gca()\n",
    "plt.grid(visible=None)\n",
    "plt.show()"
   ]
  },
  {
   "cell_type": "code",
   "execution_count": null,
   "id": "ebb72c29",
   "metadata": {},
   "outputs": [],
   "source": [
    "plt.figure(figsize=(5,5))\n",
    "plt.hist(adata.obs[\"log10_total_counts\"], bins=50, alpha=0.5,ec='black')\n",
    "plt.axvline(adata.obs[\"log10_total_counts\"].median(), color='k', linestyle='dashed', linewidth=1)\n",
    "plt.ylabel('Frequency')\n",
    "plt.xlabel(\"log10_total_counts\")\n",
    "ax = plt.gca()\n",
    "plt.grid(visible=None)\n",
    "plt.show()"
   ]
  },
  {
   "cell_type": "code",
   "execution_count": null,
   "id": "0486ae44",
   "metadata": {},
   "outputs": [],
   "source": [
    "adata.var['mt'] = adata.var.gene_name.str.startswith('mt-')  # annotate the group of mitochondrial genes as 'mt'\n",
    "sc.pp.calculate_qc_metrics(adata, qc_vars=['mt'], percent_top=None, log1p=False, inplace=True)"
   ]
  },
  {
   "cell_type": "code",
   "execution_count": null,
   "id": "cc2a19f6",
   "metadata": {},
   "outputs": [],
   "source": [
    "adata.obs['log10_total_counts'] = np.log10(adata.obs.total_counts)\n",
    "adata.obs['log10_n_genes_by_counts'] = np.log10(adata.obs.n_genes_by_counts)\n",
    "adata.var['log10_total_counts'] = np.log10(adata.var.total_counts)"
   ]
  },
  {
   "cell_type": "code",
   "execution_count": null,
   "id": "ec4e91cb",
   "metadata": {
    "scrolled": true
   },
   "outputs": [],
   "source": [
    "sc.pl.violin(adata,['n_genes_by_counts', 'total_counts', 'pct_counts_mt'],scale='area',\n",
    "             jitter=0.4, multi_panel=True)"
   ]
  },
  {
   "cell_type": "code",
   "execution_count": null,
   "id": "a54f10ac",
   "metadata": {},
   "outputs": [],
   "source": [
    "sc.pl.scatter(adata, x='total_counts', y='pct_counts_mt')\n",
    "sc.pl.scatter(adata, x='total_counts', y='n_genes_by_counts')"
   ]
  },
  {
   "cell_type": "code",
   "execution_count": null,
   "id": "99f88389",
   "metadata": {},
   "outputs": [],
   "source": [
    "# filter genes per cell and umis per cell based on top and bottom percentiles\n",
    "# filter cells based on percentage of mitochondrial genes\n",
    "low_genes_per_cell_percentile = 5\n",
    "high_genes_per_cell_percentile = 99\n",
    "low_counts_per_cell_percentile = 5\n",
    "high_counts_per_cell_percentile = 99\n",
    "min_genes_per_cell = round(np.percentile(adata.obs.n_genes_by_counts,low_genes_per_cell_percentile))\n",
    "print('min genes per cell: '+str(min_genes_per_cell))\n",
    "max_genes_per_cell = round(np.percentile(adata.obs.n_genes_by_counts,high_genes_per_cell_percentile))\n",
    "print('max genes per cell: '+str(max_genes_per_cell))\n",
    "min_counts_per_cell = round(np.percentile(adata.obs.total_counts,low_genes_per_cell_percentile))\n",
    "print('min counts per cell: '+str(min_counts_per_cell))\n",
    "max_counts_per_cell = round(np.percentile(adata.obs.total_counts,high_genes_per_cell_percentile))\n",
    "print('max counts per cell: '+str(max_counts_per_cell))"
   ]
  },
  {
   "cell_type": "code",
   "execution_count": null,
   "id": "0715fb08",
   "metadata": {},
   "outputs": [],
   "source": [
    "min_genes_bool=sc.pp.filter_cells(adata, min_genes=min_genes_per_cell,inplace=False)\n",
    "max_genes_bool=sc.pp.filter_cells(adata, max_genes=max_genes_per_cell,inplace=False)\n",
    "min_counts_bool=sc.pp.filter_cells(adata, min_counts=min_counts_per_cell,inplace=False)\n",
    "max_counts_bool=sc.pp.filter_cells(adata, max_counts=max_counts_per_cell,inplace=False)\n",
    "min_genes_bool = [not x for x in min_genes_bool[0]]\n",
    "max_genes_bool = [not x for x in max_genes_bool[0]]\n",
    "min_counts_bool = [not x for x in min_counts_bool[0]]\n",
    "max_counts_bool = [not x for x in max_counts_bool[0]]"
   ]
  },
  {
   "cell_type": "code",
   "execution_count": null,
   "id": "1995a152",
   "metadata": {},
   "outputs": [],
   "source": [
    "thresholded = [a + b + c + d for a, b, c, d in zip(min_genes_bool,max_genes_bool,min_counts_bool,max_counts_bool)]\n",
    "thresholded = [bool(x) for x in thresholded]"
   ]
  },
  {
   "cell_type": "code",
   "execution_count": null,
   "id": "7f3aa4c4",
   "metadata": {},
   "outputs": [],
   "source": [
    "sum(thresholded)"
   ]
  },
  {
   "cell_type": "code",
   "execution_count": null,
   "id": "e8fa4ce2",
   "metadata": {},
   "outputs": [],
   "source": [
    "thresholded_x = adata.obs.total_counts[thresholded]\n",
    "thresholded_y = adata.obs.n_genes_by_counts[thresholded]\n",
    "plt.scatter(adata.obs.total_counts,adata.obs.n_genes_by_counts,s=1,c='dodgerblue')\n",
    "plt.scatter(thresholded_x,thresholded_y,c='r',s=1)\n",
    "plt.xlabel('total_counts')\n",
    "plt.ylabel('pct_counts_mt')\n",
    "colors=['dodgerblue','r']\n",
    "texts=['maintained cells','filtered cells']\n",
    "patches = [ plt.plot([],[], marker=\"o\", ms=3, ls=\"\", linewidth=0.6,color=colors[i], \n",
    "                label=\"{:s}\".format(texts[i]) )[0]  for i in range(len(texts)) ]\n",
    "plt.legend(handles=patches, bbox_to_anchor=(1, 0.5), \n",
    "        loc='center left', ncol=1,fontsize='medium')"
   ]
  },
  {
   "cell_type": "code",
   "execution_count": null,
   "id": "0494ff15",
   "metadata": {},
   "outputs": [],
   "source": [
    "max_mt_pct = 5\n",
    "max_mt_bool = list(adata.obs.pct_counts_mt >= max_mt_pct)\n",
    "thresholded_x = adata.obs.total_counts[max_mt_bool]\n",
    "thresholded_y = adata.obs.pct_counts_mt[max_mt_bool]\n",
    "plt.scatter(adata.obs.total_counts,adata.obs.pct_counts_mt,s=1,c='dodgerblue')\n",
    "plt.scatter(thresholded_x,thresholded_y,c='r',s=1)\n",
    "plt.xlabel('total_counts')\n",
    "plt.ylabel('pct_counts_mt')\n",
    "colors=['dodgerblue','r']\n",
    "texts=['maintained cells','filtered cells']\n",
    "patches = [ plt.plot([],[], marker=\"o\", ms=3, ls=\"\", linewidth=0.6,color=colors[i], \n",
    "                label=\"{:s}\".format(texts[i]) )[0]  for i in range(len(texts)) ]\n",
    "plt.legend(handles=patches, bbox_to_anchor=(1, 0.5), \n",
    "        loc='center left', ncol=1,fontsize='medium')"
   ]
  },
  {
   "cell_type": "code",
   "execution_count": null,
   "id": "21d18c66",
   "metadata": {},
   "outputs": [],
   "source": [
    "min_genes_bool=sc.pp.filter_cells(adata, min_genes=min_genes_per_cell,inplace=True)\n",
    "max_genes_bool=sc.pp.filter_cells(adata, max_genes=max_genes_per_cell,inplace=True)\n",
    "min_counts_bool=sc.pp.filter_cells(adata, min_counts=min_counts_per_cell,inplace=True)\n",
    "max_counts_bool=sc.pp.filter_cells(adata, max_counts=max_counts_per_cell,inplace=True)\n",
    "adata = adata[adata.obs.pct_counts_mt < max_mt_pct, :]"
   ]
  },
  {
   "cell_type": "code",
   "execution_count": null,
   "id": "0c39af6d",
   "metadata": {},
   "outputs": [],
   "source": [
    "sc.pl.scatter(adata, x='total_counts', y='pct_counts_mt')\n",
    "sc.pl.scatter(adata, x='total_counts', y='n_genes_by_counts')"
   ]
  },
  {
   "cell_type": "code",
   "execution_count": null,
   "id": "3c3dd9ac",
   "metadata": {},
   "outputs": [],
   "source": [
    "plt.figure(figsize=(5,5))\n",
    "plt.hist(adata.obs[\"log10_total_counts\"], bins=50, alpha=0.5,ec='black')\n",
    "plt.axvline(adata.obs[\"log10_total_counts\"].median(), color='k', linestyle='dashed', linewidth=1)\n",
    "plt.ylabel('Frequency')\n",
    "plt.xlabel(\"log10_total_counts\")\n",
    "ax = plt.gca()\n",
    "plt.grid(visible=None)\n",
    "plt.show()"
   ]
  },
  {
   "cell_type": "code",
   "execution_count": null,
   "id": "170d40b5",
   "metadata": {},
   "outputs": [],
   "source": [
    "plt.figure(figsize=(5,5))\n",
    "plt.hist(adata.obs[\"log10_n_genes_by_counts\"], bins=50, alpha=0.5,ec='black')\n",
    "plt.axvline(adata.obs[\"log10_n_genes_by_counts\"].median(), color='k', linestyle='dashed', linewidth=1)\n",
    "plt.ylabel('Frequency')\n",
    "plt.xlabel(\"log10_n_genes_by_counts\")\n",
    "ax = plt.gca()\n",
    "plt.grid(visible=None)\n",
    "plt.show()"
   ]
  },
  {
   "cell_type": "code",
   "execution_count": null,
   "id": "aa494582",
   "metadata": {},
   "outputs": [],
   "source": [
    "sc.pl.violin(adata, ['n_genes_by_counts', 'total_counts', 'pct_counts_mt'],\n",
    "             jitter=0.4, multi_panel=True)"
   ]
  },
  {
   "cell_type": "code",
   "execution_count": null,
   "id": "05e066b0",
   "metadata": {},
   "outputs": [],
   "source": [
    "sc.pl.violin(adata, ['log10_n_genes_by_counts', 'log10_total_counts'],\n",
    "             jitter=0.4, multi_panel=True)"
   ]
  },
  {
   "cell_type": "code",
   "execution_count": null,
   "id": "1bf5644d",
   "metadata": {},
   "outputs": [],
   "source": [
    "out_path = f'{sample_name}_cell_gene_filtration_params.csv'\n",
    "a_file = open(out_path, \"w\")\n",
    "gene_cell_filtration_params={\n",
    "    'low_genes_per_cell_percentile': low_genes_per_cell_percentile,\n",
    "    'min_genes_per_cell': min_genes_per_cell,\n",
    "    'high_genes_per_cell_percentile': high_genes_per_cell_percentile,\n",
    "    'max_genes_per_cell': max_genes_per_cell,\n",
    "    'low_counts_per_cell_percentile': low_counts_per_cell_percentile,\n",
    "    'min_counts_per_cell': min_counts_per_cell,\n",
    "    'high_counts_per_cell_percentile': high_counts_per_cell_percentile,\n",
    "    'max_counts_per_cell': max_counts_per_cell,\n",
    "    'min_cells_per_gene': min_cells_per_gene,\n",
    "    'max_mt_pct': max_mt_pct\n",
    "}\n",
    "writer = csv.writer(a_file)\n",
    "for key, value in gene_cell_filtration_params.items():\n",
    "    writer.writerow([key, value])\n",
    "a_file.close()"
   ]
  },
  {
   "cell_type": "code",
   "execution_count": null,
   "id": "921071cd",
   "metadata": {},
   "outputs": [],
   "source": [
    "out_path = f'{sample_name}_filtered_adata.h5ad'\n",
    "adata.write(out_path)"
   ]
  },
  {
   "cell_type": "code",
   "execution_count": null,
   "id": "e7357ed4",
   "metadata": {},
   "outputs": [],
   "source": []
  },
  {
   "cell_type": "code",
   "execution_count": null,
   "id": "f551ccc0",
   "metadata": {},
   "outputs": [],
   "source": []
  }
 ],
 "metadata": {
  "kernelspec": {
   "display_name": "Python 3 (ipykernel)",
   "language": "python",
   "name": "python3"
  },
  "language_info": {
   "codemirror_mode": {
    "name": "ipython",
    "version": 3
   },
   "file_extension": ".py",
   "mimetype": "text/x-python",
   "name": "python",
   "nbconvert_exporter": "python",
   "pygments_lexer": "ipython3",
   "version": "3.9.13"
  }
 },
 "nbformat": 4,
 "nbformat_minor": 5
}
