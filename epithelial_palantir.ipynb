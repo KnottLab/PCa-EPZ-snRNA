{
 "cells": [
  {
   "cell_type": "code",
   "execution_count": null,
   "id": "64331b16",
   "metadata": {},
   "outputs": [],
   "source": [
    "import palantir\n",
    "import scanpy as sc\n",
    "import numpy as np\n",
    "import pandas as pd\n",
    "import os\n",
    "from scipy import sparse\n",
    "from scipy.ndimage.filters import gaussian_filter\n",
    "from matplotlib.patches import Patch\n",
    "import pickle\n",
    "import matplotlib as mpl\n",
    "import matplotlib\n",
    "import matplotlib.pyplot as plt\n",
    "import seaborn as sns\n",
    "import warnings\n",
    "\n",
    "%matplotlib inline\n",
    "\n",
    "sns.set_style('ticks')\n",
    "matplotlib.rcParams['figure.figsize'] = [4, 4]\n",
    "matplotlib.rcParams['figure.dpi'] = 100\n",
    "matplotlib.rcParams['image.cmap'] = 'Spectral_r'\n",
    "warnings.filterwarnings(action=\"ignore\", module=\"matplotlib\", message=\"findfont\")\n",
    "\n",
    "np.random.seed(5)\n",
    "import random\n",
    "from statsmodels.nonparametric.smoothers_lowess import lowess as  sm_lowess"
   ]
  },
  {
   "cell_type": "code",
   "execution_count": null,
   "id": "b7299ad4-fb0a-41c2-929f-8eda2094f9a5",
   "metadata": {},
   "outputs": [],
   "source": [
    "ep_norm_ad = sc.read_h5ad('epithelial_l_ad.h5ad')\n",
    "ep_norm_ad.X = sparse.csr_matrix(ep_norm_ad.X)\n"
   ]
  },
  {
   "cell_type": "code",
   "execution_count": null,
   "id": "176b2698",
   "metadata": {},
   "outputs": [],
   "source": [
    "sc.pp.highly_variable_genes(ep_norm_ad, n_top_genes=1500)"
   ]
  },
  {
   "cell_type": "code",
   "execution_count": null,
   "id": "b278783f",
   "metadata": {},
   "outputs": [],
   "source": [
    "sc.pp.pca(ep_norm_ad)"
   ]
  },
  {
   "cell_type": "code",
   "execution_count": null,
   "id": "6bfe1949",
   "metadata": {},
   "outputs": [],
   "source": [
    "pca_projections = pd.DataFrame(ep_norm_ad.obsm['X_harmony_pca'], index=ep_norm_ad.obs_names)\n",
    "dm_res = palantir.utils.run_diffusion_maps(pca_projections, n_components=15)\n",
    "ms_data = palantir.utils.determine_multiscale_space(dm_res)\n",
    "ep_norm_ad.layers['MAGIC_imputed_data'] = palantir.utils.run_magic_imputation(ep_norm_ad, dm_res)"
   ]
  },
  {
   "cell_type": "code",
   "execution_count": null,
   "id": "51e1b2f3",
   "metadata": {},
   "outputs": [],
   "source": [
    "vehicle_list = ep_norm_ad[ep_norm_ad.obs['treatment_stat']=='Vehicle'].obs_names.tolist()\n",
    "start_cell = 'AACAAAGCAATGACCT-1_79-2e'"
   ]
  },
  {
   "cell_type": "code",
   "execution_count": null,
   "id": "8df9ebff",
   "metadata": {
    "tags": []
   },
   "outputs": [],
   "source": [
    "pr_res = palantir.core.run_palantir(ms_data,start_cell,num_waypoints=1200,knn=30)\n",
    "#pr_res_prev = pickle.load(open(\"pr_res3.pickle\", \"rb\"))\n",
    "#pr_res = palantir.core.run_palantir(ms_data,start_cell,num_waypoints=pr_res2.waypoints,knn=30)"
   ]
  },
  {
   "cell_type": "code",
   "execution_count": null,
   "id": "32e1d02c",
   "metadata": {},
   "outputs": [],
   "source": [
    "pickle.dump(pr_res, file = open(\"pre_res.pickle\", \"wb\"))"
   ]
  },
  {
   "cell_type": "code",
   "execution_count": null,
   "id": "fca5f524",
   "metadata": {},
   "outputs": [],
   "source": []
  },
  {
   "cell_type": "code",
   "execution_count": null,
   "id": "d1596f0e",
   "metadata": {},
   "outputs": [],
   "source": []
  },
  {
   "cell_type": "code",
   "execution_count": null,
   "id": "0e55795b",
   "metadata": {},
   "outputs": [],
   "source": []
  },
  {
   "cell_type": "code",
   "execution_count": null,
   "id": "020081fe",
   "metadata": {},
   "outputs": [],
   "source": []
  },
  {
   "cell_type": "code",
   "execution_count": null,
   "id": "9525a78c",
   "metadata": {},
   "outputs": [],
   "source": []
  },
  {
   "cell_type": "code",
   "execution_count": null,
   "id": "179ecb9b",
   "metadata": {},
   "outputs": [],
   "source": []
  },
  {
   "cell_type": "code",
   "execution_count": null,
   "id": "936e3973",
   "metadata": {},
   "outputs": [],
   "source": []
  }
 ],
 "metadata": {
  "kernelspec": {
   "display_name": "Python 3 (ipykernel)",
   "language": "python",
   "name": "python3"
  },
  "language_info": {
   "codemirror_mode": {
    "name": "ipython",
    "version": 3
   },
   "file_extension": ".py",
   "mimetype": "text/x-python",
   "name": "python",
   "nbconvert_exporter": "python",
   "pygments_lexer": "ipython3",
   "version": "3.9.13"
  }
 },
 "nbformat": 4,
 "nbformat_minor": 5
}
