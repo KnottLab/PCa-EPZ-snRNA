{
 "cells": [
  {
   "cell_type": "code",
   "execution_count": null,
   "id": "30aa90c4",
   "metadata": {},
   "outputs": [],
   "source": [
    "import pandas as pd\n",
    "import numpy as np\n",
    "import scrublet as scr\n",
    "import anndata\n",
    "import scanpy as sc\n",
    "import matplotlib.pyplot as plt\n",
    "import csv\n",
    "np.random.seed(111)"
   ]
  },
  {
   "cell_type": "code",
   "execution_count": null,
   "id": "ababdcd4",
   "metadata": {},
   "outputs": [],
   "source": [
    "#sample_names = ['76-2b','76-2f','79-1d','79-1e','79-2e','79-2f']\n",
    "sample_name = '79-2f'"
   ]
  },
  {
   "cell_type": "code",
   "execution_count": null,
   "id": "c1ca1a84",
   "metadata": {},
   "outputs": [],
   "source": [
    "input_path = f'{sample_name}_filtered_adata.h5ad'\n",
    "adata = sc.read_h5ad(input_path)\n",
    "counts_matrix = adata.X"
   ]
  },
  {
   "cell_type": "code",
   "execution_count": null,
   "id": "ed41bb59",
   "metadata": {},
   "outputs": [],
   "source": [
    "scrub = scr.Scrublet(counts_matrix, expected_doublet_rate=0.06,sim_doublet_ratio=2)"
   ]
  },
  {
   "cell_type": "code",
   "execution_count": null,
   "id": "61d630df",
   "metadata": {},
   "outputs": [],
   "source": [
    "doublet_scores, predicted_doublets = scrub.scrub_doublets(min_counts=1, \n",
    "                                                          min_cells=1, \n",
    "                                                          min_gene_variability_pctl=85, \n",
    "                                                          n_prin_comps=30,log_transform=True)"
   ]
  },
  {
   "cell_type": "code",
   "execution_count": null,
   "id": "1d3ad660",
   "metadata": {},
   "outputs": [],
   "source": [
    "score_thresh = 0.2\n",
    "scrublet_bool=scrub.call_doublets(threshold=score_thresh)"
   ]
  },
  {
   "cell_type": "code",
   "execution_count": null,
   "id": "d31a9283",
   "metadata": {},
   "outputs": [],
   "source": [
    "scrub.plot_histogram()\n",
    "plt.show()"
   ]
  },
  {
   "cell_type": "code",
   "execution_count": null,
   "id": "5317574a",
   "metadata": {},
   "outputs": [],
   "source": [
    "scrublet_bool = pd.DataFrame(scrublet_bool)\n",
    "scrublet_bool = scrublet_bool.rename(columns={0:'is_doublet'})\n",
    "out_path = f'{sample_name}_predicted_doublets.csv'\n",
    "scrublet_bool.to_csv(out_path)"
   ]
  },
  {
   "cell_type": "code",
   "execution_count": null,
   "id": "0b55df4d",
   "metadata": {},
   "outputs": [],
   "source": [
    "print('Running UMAP...')\n",
    "scrub.set_embedding('UMAP', scr.get_umap(scrub.manifold_obs_, 10, min_dist=0.3))\n",
    "print('Done.')"
   ]
  },
  {
   "cell_type": "code",
   "execution_count": null,
   "id": "8001270e",
   "metadata": {},
   "outputs": [],
   "source": [
    "scrub.plot_embedding('UMAP', order_points=True)\n",
    "plt.show()"
   ]
  },
  {
   "cell_type": "code",
   "execution_count": null,
   "id": "3136e1ce",
   "metadata": {},
   "outputs": [],
   "source": [
    "out_path = f'{sample_name}_scrublet_params.csv'\n",
    "a_file = open(out_path, \"w\")\n",
    "scrublet_params = {\n",
    "    'doublet_score_thresh': score_thresh\n",
    "}\n",
    "writer = csv.writer(a_file)\n",
    "for key, value in scrublet_params.items():\n",
    "    writer.writerow([key, value])\n",
    "a_file.close()"
   ]
  },
  {
   "cell_type": "code",
   "execution_count": null,
   "id": "ea09e64e",
   "metadata": {},
   "outputs": [],
   "source": [
    "adata.obs = adata.obs.reset_index()\n",
    "adata.obs = adata.obs.drop(columns={'index'})\n",
    "adata.obs['is_doublet'] = scrublet_bool['is_doublet']\n",
    "out_path = f'{sample_name}_filtered_adata.h5ad'\n",
    "adata.write(out_path)"
   ]
  },
  {
   "cell_type": "code",
   "execution_count": null,
   "id": "28003742",
   "metadata": {},
   "outputs": [],
   "source": []
  }
 ],
 "metadata": {
  "kernelspec": {
   "display_name": "Python 3 (ipykernel)",
   "language": "python",
   "name": "python3"
  },
  "language_info": {
   "codemirror_mode": {
    "name": "ipython",
    "version": 3
   },
   "file_extension": ".py",
   "mimetype": "text/x-python",
   "name": "python",
   "nbconvert_exporter": "python",
   "pygments_lexer": "ipython3",
   "version": "3.9.13"
  }
 },
 "nbformat": 4,
 "nbformat_minor": 5
}
